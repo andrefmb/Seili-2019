{
 "cells": [
  {
   "cell_type": "markdown",
   "metadata": {},
   "source": [
    "Copyright (c) 2019 OERCompBiomed"
   ]
  },
  {
   "cell_type": "markdown",
   "metadata": {},
   "source": [
    "# Scikit-learn"
   ]
  },
  {
   "cell_type": "markdown",
   "metadata": {},
   "source": [
    "__[*scikit-learn*](http://scikit-learn.org/stable)__ is the premier free software machine learning library for the Python programming language and is built on top of [SciPy](https://scipy.org) (and [NumPy](https://www.numpy.org)). <br>\n",
    "The scikit-learn library is accompanied with an **extremely comprehensive and well written [documentation](https://scikit-learn.org/stable/documentation.html)** including [User Guide](https://scikit-learn.org/stable/user_guide.html), [Tutorials](https://scikit-learn.org/stable/tutorial/index.html), [Glossary](https://scikit-learn.org/stable/glossary.html), and a lot of [Examples](https://scikit-learn.org/stable/auto_examples/index.html).\n",
    "\n",
    "The scikit-learn modules are conventionally given the name `sklearn` as a stem for the dot notation, e.g.<br>\n",
    "\n",
    "`from sklearn.model_selection import` [`train_test_split`](https://scikit-learn.org/stable/modules/generated/sklearn.model_selection.train_test_split.html)<br>\n",
    "`from sklearn.neighbors import KNeighborsClassifier`<br>\n",
    "`from sklearn.preprocessing import StandardScaler`<br>\n",
    "`from sklearn.datasets import make_moons, make_circles, make_classification`<br>\n",
    "\n",
    "Scikit-learn also provide some small-sample, biomedically relevant \"toy datasets\" that are useful for experimentations (however, often too small to be representative of real world machine learning tasks), e.g.\n",
    "the `iris dataset` (for classification), the `diabetes dataset` (for regression), the `breast cancer wisconsin dataset` (classification), and the `linnerud dataset` (for multivariate regression).\n",
    "\n",
    "The `sklearn.datasets` package also features helpers to fetch larger datasets commonly used by the machine learning community to benchmark algorithms on data that comes from the ‘real world’, and also functionality to generate synthetic data."
   ]
  },
  {
   "cell_type": "markdown",
   "metadata": {},
   "source": [
    "**You are encouraged to experiment with all our code!**\n",
    "\n",
    "NOTE: The original notebook on Github might change over the time, and we recommend that you make a copy of our notebooks before you are editing them. In this respect you might adopt the naming convention my_<'name_of_notebook'>.ipynb, e.g. my_1.3-scikit-learn-basics.ipynb"
   ]
  },
  {
   "cell_type": "code",
   "execution_count": null,
   "metadata": {},
   "outputs": [],
   "source": []
  }
 ],
 "metadata": {
  "kernelspec": {
   "display_name": "SEILI",
   "language": "python",
   "name": "seili"
  },
  "language_info": {
   "codemirror_mode": {
    "name": "ipython",
    "version": 3
   },
   "file_extension": ".py",
   "mimetype": "text/x-python",
   "name": "python",
   "nbconvert_exporter": "python",
   "pygments_lexer": "ipython3",
   "version": "3.7.3"
  }
 },
 "nbformat": 4,
 "nbformat_minor": 2
}
